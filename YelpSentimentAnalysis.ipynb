{
 "cells": [
  {
   "cell_type": "markdown",
   "id": "f5220d6a",
   "metadata": {},
   "source": [
    "# Yelp Sentiment Analysis"
   ]
  },
  {
   "cell_type": "markdown",
   "id": "7695750b",
   "metadata": {},
   "source": [
    "## 1) Reading the Data"
   ]
  },
  {
   "cell_type": "code",
   "execution_count": 3,
   "id": "5d74c507",
   "metadata": {},
   "outputs": [
    {
     "data": {
      "text/html": [
       "<div>\n",
       "<style scoped>\n",
       "    .dataframe tbody tr th:only-of-type {\n",
       "        vertical-align: middle;\n",
       "    }\n",
       "\n",
       "    .dataframe tbody tr th {\n",
       "        vertical-align: top;\n",
       "    }\n",
       "\n",
       "    .dataframe thead th {\n",
       "        text-align: right;\n",
       "    }\n",
       "</style>\n",
       "<table border=\"1\" class=\"dataframe\">\n",
       "  <thead>\n",
       "    <tr style=\"text-align: right;\">\n",
       "      <th></th>\n",
       "      <th>business_id</th>\n",
       "      <th>date</th>\n",
       "      <th>review_id</th>\n",
       "      <th>stars</th>\n",
       "      <th>text</th>\n",
       "      <th>type</th>\n",
       "      <th>user_id</th>\n",
       "      <th>cool</th>\n",
       "      <th>useful</th>\n",
       "      <th>funny</th>\n",
       "    </tr>\n",
       "  </thead>\n",
       "  <tbody>\n",
       "    <tr>\n",
       "      <th>0</th>\n",
       "      <td>9yKzy9PApeiPPOUJEtnvkg</td>\n",
       "      <td>2011-01-26</td>\n",
       "      <td>fWKvX83p0-ka4JS3dc6E5A</td>\n",
       "      <td>5</td>\n",
       "      <td>My wife took me here on my birthday for breakf...</td>\n",
       "      <td>review</td>\n",
       "      <td>rLtl8ZkDX5vH5nAx9C3q5Q</td>\n",
       "      <td>2</td>\n",
       "      <td>5</td>\n",
       "      <td>0</td>\n",
       "    </tr>\n",
       "    <tr>\n",
       "      <th>1</th>\n",
       "      <td>ZRJwVLyzEJq1VAihDhYiow</td>\n",
       "      <td>2011-07-27</td>\n",
       "      <td>IjZ33sJrzXqU-0X6U8NwyA</td>\n",
       "      <td>5</td>\n",
       "      <td>I have no idea why some people give bad review...</td>\n",
       "      <td>review</td>\n",
       "      <td>0a2KyEL0d3Yb1V6aivbIuQ</td>\n",
       "      <td>0</td>\n",
       "      <td>0</td>\n",
       "      <td>0</td>\n",
       "    </tr>\n",
       "    <tr>\n",
       "      <th>2</th>\n",
       "      <td>6oRAC4uyJCsJl1X0WZpVSA</td>\n",
       "      <td>2012-06-14</td>\n",
       "      <td>IESLBzqUCLdSzSqm0eCSxQ</td>\n",
       "      <td>4</td>\n",
       "      <td>love the gyro plate. Rice is so good and I als...</td>\n",
       "      <td>review</td>\n",
       "      <td>0hT2KtfLiobPvh6cDC8JQg</td>\n",
       "      <td>0</td>\n",
       "      <td>1</td>\n",
       "      <td>0</td>\n",
       "    </tr>\n",
       "    <tr>\n",
       "      <th>3</th>\n",
       "      <td>_1QQZuf4zZOyFCvXc0o6Vg</td>\n",
       "      <td>2010-05-27</td>\n",
       "      <td>G-WvGaISbqqaMHlNnByodA</td>\n",
       "      <td>5</td>\n",
       "      <td>Rosie, Dakota, and I LOVE Chaparral Dog Park!!...</td>\n",
       "      <td>review</td>\n",
       "      <td>uZetl9T0NcROGOyFfughhg</td>\n",
       "      <td>1</td>\n",
       "      <td>2</td>\n",
       "      <td>0</td>\n",
       "    </tr>\n",
       "    <tr>\n",
       "      <th>4</th>\n",
       "      <td>6ozycU1RpktNG2-1BroVtw</td>\n",
       "      <td>2012-01-05</td>\n",
       "      <td>1uJFq2r5QfJG_6ExMRCaGw</td>\n",
       "      <td>5</td>\n",
       "      <td>General Manager Scott Petello is a good egg!!!...</td>\n",
       "      <td>review</td>\n",
       "      <td>vYmM4KTsC8ZfQBg-j5MWkw</td>\n",
       "      <td>0</td>\n",
       "      <td>0</td>\n",
       "      <td>0</td>\n",
       "    </tr>\n",
       "  </tbody>\n",
       "</table>\n",
       "</div>"
      ],
      "text/plain": [
       "              business_id        date               review_id  stars  \\\n",
       "0  9yKzy9PApeiPPOUJEtnvkg  2011-01-26  fWKvX83p0-ka4JS3dc6E5A      5   \n",
       "1  ZRJwVLyzEJq1VAihDhYiow  2011-07-27  IjZ33sJrzXqU-0X6U8NwyA      5   \n",
       "2  6oRAC4uyJCsJl1X0WZpVSA  2012-06-14  IESLBzqUCLdSzSqm0eCSxQ      4   \n",
       "3  _1QQZuf4zZOyFCvXc0o6Vg  2010-05-27  G-WvGaISbqqaMHlNnByodA      5   \n",
       "4  6ozycU1RpktNG2-1BroVtw  2012-01-05  1uJFq2r5QfJG_6ExMRCaGw      5   \n",
       "\n",
       "                                                text    type  \\\n",
       "0  My wife took me here on my birthday for breakf...  review   \n",
       "1  I have no idea why some people give bad review...  review   \n",
       "2  love the gyro plate. Rice is so good and I als...  review   \n",
       "3  Rosie, Dakota, and I LOVE Chaparral Dog Park!!...  review   \n",
       "4  General Manager Scott Petello is a good egg!!!...  review   \n",
       "\n",
       "                  user_id  cool  useful  funny  \n",
       "0  rLtl8ZkDX5vH5nAx9C3q5Q     2       5      0  \n",
       "1  0a2KyEL0d3Yb1V6aivbIuQ     0       0      0  \n",
       "2  0hT2KtfLiobPvh6cDC8JQg     0       1      0  \n",
       "3  uZetl9T0NcROGOyFfughhg     1       2      0  \n",
       "4  vYmM4KTsC8ZfQBg-j5MWkw     0       0      0  "
      ]
     },
     "execution_count": 3,
     "metadata": {},
     "output_type": "execute_result"
    }
   ],
   "source": [
    "import pandas as pd\n",
    "import numpy as np\n",
    "import re\n",
    "import nltk\n",
    "from nltk.corpus import stopwords\n",
    "from nltk.stem import WordNetLemmatizer\n",
    "\n",
    "df = pd.read_csv('yelp.csv')\n",
    "df.head()"
   ]
  },
  {
   "cell_type": "markdown",
   "id": "c6185073",
   "metadata": {},
   "source": [
    "## 2) Adjusting the Data"
   ]
  },
  {
   "cell_type": "code",
   "execution_count": 4,
   "id": "5879350f",
   "metadata": {},
   "outputs": [],
   "source": [
    "#Clean the text (example: eating -> eat)\n",
    "def text_cleaner(txt):\n",
    "    txt = re.sub(r'[^\\w\\s]', '', txt) #remove punctuation (stack overflow)\n",
    "    txt = txt.lower() #make lowercase\n",
    "    words = txt.split() #split into words\n",
    "\n",
    "    lemmatizer = WordNetLemmatizer() #geeksforgeeks\n",
    "    stop_words = set(stopwords.words('english'))\n",
    "    cleaned_words = []\n",
    "    for word in words:\n",
    "        if word not in stop_words:\n",
    "            x = lemmatizer.lemmatize(word)  #cleans the words\n",
    "            cleaned_words.append(x)\n",
    "            \n",
    "    cleaned_txt = ' '.join(cleaned_words) #turn back into sentence\n",
    "    return cleaned_txt\n",
    "\n",
    "df['cleaned_text'] = df['text'].apply(text_cleaner) #cleans the text column and adds it to new column\n"
   ]
  },
  {
   "cell_type": "code",
   "execution_count": 5,
   "id": "cdb1f27b",
   "metadata": {},
   "outputs": [
    {
     "name": "stdout",
     "output_type": "stream",
     "text": [
      "Original Text vs Cleaned Text\n",
      "\n",
      "                                                text  \\\n",
      "0  My wife took me here on my birthday for breakf...   \n",
      "1  I have no idea why some people give bad review...   \n",
      "2  love the gyro plate. Rice is so good and I als...   \n",
      "3  Rosie, Dakota, and I LOVE Chaparral Dog Park!!...   \n",
      "4  General Manager Scott Petello is a good egg!!!...   \n",
      "\n",
      "                                        cleaned_text  \n",
      "0  wife took birthday breakfast excellent weather...  \n",
      "1  idea people give bad review place go show plea...  \n",
      "2  love gyro plate rice good also dig candy selec...  \n",
      "3  rosie dakota love chaparral dog park convenien...  \n",
      "4  general manager scott petello good egg go deta...  \n"
     ]
    }
   ],
   "source": [
    "print(\"Original Text vs Cleaned Text\\n\")\n",
    "print(df[['text', 'cleaned_text']].head())"
   ]
  },
  {
   "cell_type": "markdown",
   "id": "9c0b9bbd",
   "metadata": {},
   "source": [
    "## 3) Converting Data Into Vectors"
   ]
  },
  {
   "cell_type": "code",
   "execution_count": 18,
   "id": "d521afc6",
   "metadata": {},
   "outputs": [],
   "source": [
    "from sklearn.feature_extraction.text import TfidfVectorizer\n",
    "\n",
    "#turning words into vectors\n",
    "vectorizer = TfidfVectorizer(\n",
    "    max_df=0.6,         #If a term appears in more than 60% of the documents, ignore it.\n",
    "    min_df=10,           #If a term appears in less than 10 documents, ignore it.\n",
    "    max_features=8000,  #Top 8000 most frequent terms are kept.\n",
    "    ngram_range=(1, 3), #Considers single words and 2,3-word combinations. (ngram (1,2) gave lower accuracy for naive bayes)\n",
    "    stop_words='english' #Removes words like \"and\" , \"the\"\n",
    ")\n",
    "\n",
    "X = vectorizer.fit_transform(df['cleaned_text']).toarray()\n",
    "# 4 or 5 star ratings will be considered positive (1)\n",
    "# 1,2,3 star ratings will be considered negative (0)\n",
    "y = df['stars'].apply(lambda x: 1 if x > 3 else 0)\n"
   ]
  },
  {
   "cell_type": "code",
   "execution_count": 19,
   "id": "617ffc2c",
   "metadata": {},
   "outputs": [
    {
     "name": "stdout",
     "output_type": "stream",
     "text": [
      "\n",
      "Binary Target Variable 'y'\n",
      "\n",
      "2575    0\n",
      "7106    1\n",
      "8678    1\n",
      "3607    1\n",
      "2927    0\n",
      "7591    1\n",
      "5691    1\n",
      "6455    1\n",
      "2971    1\n",
      "3382    1\n",
      "Name: stars, dtype: int64\n"
     ]
    }
   ],
   "source": [
    "print(\"\\nBinary Target Variable 'y'\\n\")\n",
    "print(y.sample(10))"
   ]
  },
  {
   "cell_type": "markdown",
   "id": "050b7b4b",
   "metadata": {},
   "source": [
    "## 4) Splitting the Data"
   ]
  },
  {
   "cell_type": "code",
   "execution_count": 20,
   "id": "a8d3873b",
   "metadata": {},
   "outputs": [],
   "source": [
    "from sklearn.model_selection import train_test_split\n",
    "\n",
    "X_train, X_test, y_train, y_test = train_test_split(X, y, test_size=0.3, random_state=4) #split the data\n"
   ]
  },
  {
   "cell_type": "markdown",
   "id": "5738cf12",
   "metadata": {},
   "source": [
    "## 5) Models"
   ]
  },
  {
   "cell_type": "markdown",
   "id": "1abd12b4",
   "metadata": {},
   "source": [
    "### a) Naive Bayes"
   ]
  },
  {
   "cell_type": "code",
   "execution_count": 21,
   "id": "7ba11757",
   "metadata": {},
   "outputs": [
    {
     "name": "stdout",
     "output_type": "stream",
     "text": [
      "Naive Bayes Model Evaluation\n",
      "\n",
      "              precision    recall  f1-score   support\n",
      "\n",
      "           0       0.91      0.37      0.52       917\n",
      "           1       0.78      0.98      0.87      2083\n",
      "\n",
      "    accuracy                           0.79      3000\n",
      "   macro avg       0.84      0.67      0.69      3000\n",
      "weighted avg       0.82      0.79      0.76      3000\n",
      "\n",
      "Confusion Matrix for Multinomial Naive Bayes:\n",
      "[[ 335  582]\n",
      " [  35 2048]]\n"
     ]
    }
   ],
   "source": [
    "from sklearn.naive_bayes import MultinomialNB\n",
    "from sklearn.metrics import classification_report, confusion_matrix\n",
    "\n",
    "nb_model = MultinomialNB()\n",
    "nb_model.fit(X_train, y_train)\n",
    "\n",
    "y_pred_nb = nb_model.predict(X_test)\n",
    "print(\"Naive Bayes Model Evaluation\\n\")\n",
    "print(classification_report(y_test, y_pred_nb))\n",
    "\n",
    "print(\"Confusion Matrix for Multinomial Naive Bayes:\")\n",
    "print(confusion_matrix(y_test,y_pred_nb))"
   ]
  },
  {
   "cell_type": "markdown",
   "id": "9125781a",
   "metadata": {},
   "source": [
    "### b) Logistic Regression"
   ]
  },
  {
   "cell_type": "code",
   "execution_count": 23,
   "id": "f76b1b86",
   "metadata": {
    "scrolled": true
   },
   "outputs": [
    {
     "name": "stdout",
     "output_type": "stream",
     "text": [
      "Logistic Regression Model Evaluation\n",
      "\n",
      "              precision    recall  f1-score   support\n",
      "\n",
      "           0       0.84      0.58      0.69       917\n",
      "           1       0.84      0.95      0.89      2083\n",
      "\n",
      "    accuracy                           0.84      3000\n",
      "   macro avg       0.84      0.77      0.79      3000\n",
      "weighted avg       0.84      0.84      0.83      3000\n",
      "\n",
      "Confusion Matrix for Logistic Regression:\n",
      "[[ 534  383]\n",
      " [  98 1985]]\n"
     ]
    }
   ],
   "source": [
    "from sklearn.linear_model import LogisticRegression\n",
    "\n",
    "lr_model = LogisticRegression(max_iter=150) #max iterations to converge\n",
    "lr_model.fit(X_train, y_train)\n",
    "\n",
    "y_pred_lr = lr_model.predict(X_test)\n",
    "print(\"Logistic Regression Model Evaluation\\n\")\n",
    "print(classification_report(y_test, y_pred_lr))\n",
    "\n",
    "print(\"Confusion Matrix for Logistic Regression:\")\n",
    "print(confusion_matrix(y_test,y_pred_lr))"
   ]
  },
  {
   "cell_type": "markdown",
   "id": "89fdf983",
   "metadata": {},
   "source": [
    "### c) SVM"
   ]
  },
  {
   "cell_type": "code",
   "execution_count": 24,
   "id": "f8da7cfd",
   "metadata": {},
   "outputs": [
    {
     "name": "stdout",
     "output_type": "stream",
     "text": [
      "SVM Model Evaluation\n",
      "\n",
      "              precision    recall  f1-score   support\n",
      "\n",
      "           0       0.85      0.58      0.69       917\n",
      "           1       0.84      0.95      0.89      2083\n",
      "\n",
      "    accuracy                           0.84      3000\n",
      "   macro avg       0.84      0.77      0.79      3000\n",
      "weighted avg       0.84      0.84      0.83      3000\n",
      "\n",
      "Confusion Matrix for Support Vector Machine:\n",
      "[[ 534  383]\n",
      " [  97 1986]]\n"
     ]
    }
   ],
   "source": [
    "from sklearn.svm import SVC\n",
    "\n",
    "svm_model = SVC() #support vector classifier\n",
    "svm_model.fit(X_train, y_train)\n",
    "\n",
    "y_pred_svm = svm_model.predict(X_test)\n",
    "print(\"SVM Model Evaluation\\n\")\n",
    "print(classification_report(y_test, y_pred_svm))\n",
    "\n",
    "print(\"Confusion Matrix for Support Vector Machine:\")\n",
    "print(confusion_matrix(y_test,y_pred_svm))"
   ]
  },
  {
   "cell_type": "markdown",
   "id": "c879bf90",
   "metadata": {},
   "source": [
    "### d) Random Forest"
   ]
  },
  {
   "cell_type": "code",
   "execution_count": 25,
   "id": "276dde6a",
   "metadata": {},
   "outputs": [
    {
     "name": "stdout",
     "output_type": "stream",
     "text": [
      "Random Forest Model Evaluation\n",
      "\n",
      "              precision    recall  f1-score   support\n",
      "\n",
      "           0       0.82      0.49      0.61       917\n",
      "           1       0.81      0.95      0.88      2083\n",
      "\n",
      "    accuracy                           0.81      3000\n",
      "   macro avg       0.81      0.72      0.75      3000\n",
      "weighted avg       0.81      0.81      0.80      3000\n",
      "\n",
      "Confusion Matrix for Random Forest:\n",
      "[[ 452  465]\n",
      " [ 101 1982]]\n"
     ]
    }
   ],
   "source": [
    "from sklearn.ensemble import RandomForestClassifier\n",
    "\n",
    "rf_model = RandomForestClassifier(n_estimators=100, random_state=4)\n",
    "rf_model.fit(X_train, y_train)\n",
    "\n",
    "y_pred_rf = rf_model.predict(X_test)\n",
    "print(\"Random Forest Model Evaluation\\n\")\n",
    "print(classification_report(y_test, y_pred_rf))\n",
    "\n",
    "print(\"Confusion Matrix for Random Forest:\")\n",
    "print(confusion_matrix(y_test, y_pred_rf))"
   ]
  },
  {
   "cell_type": "markdown",
   "id": "a3c99d74",
   "metadata": {},
   "source": [
    "### e) Decision Tree"
   ]
  },
  {
   "cell_type": "code",
   "execution_count": 26,
   "id": "348e9ed2",
   "metadata": {},
   "outputs": [
    {
     "name": "stdout",
     "output_type": "stream",
     "text": [
      "Decision Tree Model Evaluation\n",
      "\n",
      "              precision    recall  f1-score   support\n",
      "\n",
      "           0       0.53      0.55      0.54       917\n",
      "           1       0.80      0.78      0.79      2083\n",
      "\n",
      "    accuracy                           0.71      3000\n",
      "   macro avg       0.66      0.67      0.66      3000\n",
      "weighted avg       0.71      0.71      0.71      3000\n",
      "\n",
      "Confusion Matrix for Decision Tree:\n",
      "[[ 506  411]\n",
      " [ 457 1626]]\n"
     ]
    }
   ],
   "source": [
    "from sklearn.tree import DecisionTreeClassifier\n",
    "\n",
    "dt_model = DecisionTreeClassifier(random_state=4)\n",
    "dt_model.fit(X_train, y_train)\n",
    "\n",
    "y_pred_dt = dt_model.predict(X_test)\n",
    "print(\"Decision Tree Model Evaluation\\n\")\n",
    "print(classification_report(y_test, y_pred_dt))\n",
    "\n",
    "print(\"Confusion Matrix for Decision Tree:\")\n",
    "print(confusion_matrix(y_test, y_pred_dt))\n"
   ]
  },
  {
   "cell_type": "markdown",
   "id": "c7ad7b3e",
   "metadata": {},
   "source": [
    "## 6) Accuracy Comparison"
   ]
  },
  {
   "cell_type": "code",
   "execution_count": 27,
   "id": "cb00d34e",
   "metadata": {},
   "outputs": [
    {
     "data": {
      "image/png": "[encoded data removed]",
      "text/plain": [
       "<Figure size 1008x432 with 1 Axes>"
      ]
     },
     "metadata": {
      "needs_background": "light"
     },
     "output_type": "display_data"
    }
   ],
   "source": [
    "from sklearn.metrics import accuracy_score\n",
    "import matplotlib.pyplot as plt\n",
    "import seaborn as sns\n",
    "\n",
    "#compare the accuracies\n",
    "accuracy_nb = accuracy_score(y_test, y_pred_nb)\n",
    "accuracy_lr = accuracy_score(y_test, y_pred_lr)\n",
    "accuracy_svm = accuracy_score(y_test, y_pred_svm)\n",
    "accuracy_rf = accuracy_score(y_test, y_pred_rf)\n",
    "accuracy_dt = accuracy_score(y_test, y_pred_dt)\n",
    "\n",
    "accuracies = [accuracy_nb, accuracy_lr, accuracy_svm, accuracy_rf, accuracy_dt]\n",
    "model_names = ['Naive Bayes', 'Logistic Regression', 'SVM', 'Random Forest', 'Decision Tree']\n",
    "\n",
    "plt.figure(figsize=(14, 6))\n",
    "sns.barplot(x=model_names, y=accuracies, palette=\"deep\")\n",
    "plt.ylim(0.7, 0.9)\n",
    "plt.title('Model Accuracy Comparison',fontsize=20)\n",
    "plt.xlabel('Model',fontsize=15)\n",
    "plt.ylabel('Accuracy',fontsize=15)\n",
    "plt.show()\n"
   ]
  },
  {
   "cell_type": "markdown",
   "id": "ee8a4d10",
   "metadata": {},
   "source": [
    "## 7) Confusion Matrices"
   ]
  },
  {
   "cell_type": "code",
   "execution_count": 28,
   "id": "8867fb38",
   "metadata": {},
   "outputs": [
    {
     "data": {
      "image/png": "[encoded data removed]",
      "text/plain": [
       "<Figure size 864x864 with 11 Axes>"
      ]
     },
     "metadata": {
      "needs_background": "light"
     },
     "output_type": "display_data"
    }
   ],
   "source": [
    "from sklearn.metrics import confusion_matrix\n",
    "\n",
    "#compare confusion matrices\n",
    "conf_matrix_nb = confusion_matrix(y_test, y_pred_nb)\n",
    "conf_matrix_lr = confusion_matrix(y_test, y_pred_lr)\n",
    "conf_matrix_svm = confusion_matrix(y_test, y_pred_svm)\n",
    "conf_matrix_rf = confusion_matrix(y_test, y_pred_rf)\n",
    "conf_matrix_dt = confusion_matrix(y_test, y_pred_dt)\n",
    "\n",
    "confusion_matrices = [conf_matrix_nb, conf_matrix_lr, conf_matrix_svm, conf_matrix_rf, conf_matrix_dt] \n",
    "model_names = ['Naive Bayes', 'Logistic Regression', 'SVM', 'Random Forest', 'Decision Tree']\n",
    "\n",
    "fig, axes = plt.subplots(3, 2, figsize=(12, 12))  \n",
    "\n",
    "axes = axes.flatten()\n",
    "\n",
    "for i, model in enumerate(model_names):\n",
    "    sns.heatmap(confusion_matrices[i], annot=True, fmt='d', cmap='Reds', square=True, ax=axes[i]) #generate heatmaps (geeksforgeeks)\n",
    "    axes[i].set_title(f'Confusion Matrix: {model}',fontsize=15)\n",
    "    axes[i].set_xlabel('Predicted Label',fontsize=15)\n",
    "    axes[i].set_ylabel('True Label',fontsize=15)\n",
    "\n",
    "axes[-1].axis('off') #hide last subplot\n",
    "\n",
    "plt.tight_layout()\n",
    "plt.show()"
   ]
  },
  {
   "cell_type": "markdown",
   "id": "51612793",
   "metadata": {},
   "source": [
    "## 8) F1 Score Comparison"
   ]
  },
  {
   "cell_type": "code",
   "execution_count": 29,
   "id": "d238859c",
   "metadata": {},
   "outputs": [
    {
     "data": {
      "text/plain": [
       "1    6863\n",
       "0    3137\n",
       "Name: stars, dtype: int64"
      ]
     },
     "execution_count": 29,
     "metadata": {},
     "output_type": "execute_result"
    }
   ],
   "source": [
    "y.value_counts() #unbalanced data, better to compare using F1 score"
   ]
  },
  {
   "cell_type": "code",
   "execution_count": 84,
   "id": "fc3b92c2",
   "metadata": {},
   "outputs": [
    {
     "name": "stdout",
     "output_type": "stream",
     "text": [
      "Class 0 (Negative Class) Comparison:\n",
      "                 Model  Precision    Recall  F1-Score\n",
      "2                  SVM   0.846276  0.582334  0.689922\n",
      "1  Logistic Regression   0.844937  0.582334  0.689477\n",
      "3        Random Forest   0.817360  0.492912  0.614966\n",
      "4        Decision Tree   0.525441  0.551799  0.538298\n",
      "0          Naive Bayes   0.905405  0.365322  0.520591\n",
      "\n",
      "Class 1 (Positive Class) Comparison:\n",
      "                 Model  Precision    Recall  F1-Score\n",
      "2                  SVM   0.838328  0.953433  0.892183\n",
      "1  Logistic Regression   0.838260  0.952952  0.891934\n",
      "3        Random Forest   0.809971  0.951512  0.875055\n",
      "0          Naive Bayes   0.778707  0.983197  0.869086\n",
      "4        Decision Tree   0.798233  0.780605  0.789320\n"
     ]
    }
   ],
   "source": [
    "#comparing models according to F1 scores\n",
    "report_nb = classification_report(y_test, y_pred_nb, output_dict=True)\n",
    "report_lr = classification_report(y_test, y_pred_lr, output_dict=True)\n",
    "report_svm = classification_report(y_test, y_pred_svm, output_dict=True)\n",
    "report_rf = classification_report(y_test, y_pred_rf, output_dict=True)\n",
    "report_dt = classification_report(y_test, y_pred_dt, output_dict=True)\n",
    "\n",
    "models = ['Naive Bayes', 'Logistic Regression', 'SVM', 'Random Forest', 'Decision Tree']\n",
    "\n",
    "#create tables for class 0 and class 1\n",
    "table_0 = pd.DataFrame({\n",
    "    'Model': models,\n",
    "    'Precision': [report_nb['0']['precision'], report_lr['0']['precision'], report_svm['0']['precision'], report_rf['0']['precision'], report_dt['0']['precision']],\n",
    "    'Recall': [report_nb['0']['recall'], report_lr['0']['recall'], report_svm['0']['recall'], report_rf['0']['recall'], report_dt['0']['recall']],\n",
    "    'F1-Score': [report_nb['0']['f1-score'], report_lr['0']['f1-score'], report_svm['0']['f1-score'], report_rf['0']['f1-score'], report_dt['0']['f1-score']]\n",
    "})\n",
    "\n",
    "table_1 = pd.DataFrame({\n",
    "    'Model': models,\n",
    "    'Precision': [report_nb['1']['precision'], report_lr['1']['precision'], report_svm['1']['precision'], report_rf['1']['precision'], report_dt['1']['precision']],\n",
    "    'Recall': [report_nb['1']['recall'], report_lr['1']['recall'], report_svm['1']['recall'], report_rf['1']['recall'], report_dt['1']['recall']],\n",
    "    'F1-Score': [report_nb['1']['f1-score'], report_lr['1']['f1-score'], report_svm['1']['f1-score'], report_rf['1']['f1-score'], report_dt['1']['f1-score']]\n",
    "})\n",
    "\n",
    "table_0_sorted= table_0.sort_values(by='F1-Score', ascending=False)\n",
    "table_1_sorted= table_1.sort_values(by='F1-Score', ascending=False)\n",
    "\n",
    "print(\"Class 0 (Negative Class) Comparison:\")\n",
    "print(table_0_sorted)\n",
    "print(\"\\nClass 1 (Positive Class) Comparison:\")\n",
    "print(table_1_sorted)\n",
    "\n"
   ]
  },
  {
   "cell_type": "code",
   "execution_count": 85,
   "id": "2ff34158",
   "metadata": {},
   "outputs": [
    {
     "data": {
      "image/png": "[encoded data removed]",
      "text/plain": [
       "<Figure size 864x432 with 1 Axes>"
      ]
     },
     "metadata": {
      "needs_background": "light"
     },
     "output_type": "display_data"
    }
   ],
   "source": [
    "f1_scores_class_0 = table_0['F1-Score'].tolist()\n",
    "f1_scores_class_1 = table_1['F1-Score'].tolist()\n",
    "#making a 2 bar plot\n",
    "nb= len(models)\n",
    "index= np.arange(nb)\n",
    "bar_width = 0.4\n",
    "\n",
    "plt.figure(figsize=(12, 6))\n",
    "bar1 = plt.bar(index, f1_scores_class_0, bar_width, label='Class 0 (Negative)') #from geeksforgeeks\n",
    "bar2 = plt.bar(index + bar_width, f1_scores_class_1, bar_width, label='Class 1 (Positive)')\n",
    "\n",
    "plt.xlabel('Models',fontsize=15)\n",
    "plt.ylabel('F1-Score',fontsize=15)\n",
    "plt.title('F1-Score Comparison by Class and Model',fontsize=20)\n",
    "plt.xticks(index + bar_width / 2, models)\n",
    "plt.legend()\n",
    "plt.ylim(0.5, 0.9)\n",
    "plt.tight_layout()\n",
    "plt.show()\n"
   ]
  },
  {
   "cell_type": "markdown",
   "id": "24cf28f6",
   "metadata": {},
   "source": [
    "## 9) Prediction"
   ]
  },
  {
   "cell_type": "markdown",
   "id": "f95f6b02",
   "metadata": {},
   "source": [
    "### a) SVM"
   ]
  },
  {
   "cell_type": "code",
   "execution_count": 65,
   "id": "31e956b9",
   "metadata": {},
   "outputs": [
    {
     "name": "stdout",
     "output_type": "stream",
     "text": [
      "SVM Prediction:\n",
      "\n",
      "      Actual  Predicted                                                   text\n",
      "6895       0          1  This Dunkin Donuts is hit or miss.\\n\\nWhen i run i...\n",
      "2536       1          1  This place is so good! I have eaten almost everyth...\n",
      "6646       0          1  Slices Pizza is pretty good, not the best though. ...\n",
      "2516       1          1  I totally agree with L.C.'s review.  Going to XCP ...\n",
      "1919       0          0                                           D-scust-ing.\n",
      "6795       1          1  Dr. Dairiki is terrific. She is professional, list...\n",
      "6713       0          0  The worse food and service. I have never given a b...\n",
      "188        1          1  Screw Disneyland- Sephora is the happiest place on...\n",
      "328        0          0  I like the review of the whacked waiter... i think...\n",
      "4739       0          0  I have been to Kyoto about 3-4 times in the past 7...\n",
      "4212       1          1  Relatively inexpensive, good solid mexican food pl...\n",
      "5511       1          1  today was my second visit to the gyro house. i was...\n",
      "4823       1          1  i stopped by here on a lunch break because the sig...\n",
      "3950       1          1  Cool place in downtown!  I've been to all of the i...\n",
      "4499       0          0  I got a BBQ chicken sandwich and all the bones cam...\n"
     ]
    }
   ],
   "source": [
    "pd.set_option('display.max_colwidth', 54)\n",
    "comparison_svm = pd.DataFrame({'Actual': y_test, 'Predicted': y_pred_svm})\n",
    "comparison_svm = comparison_svm.join(df['text'].reset_index(drop=True))\n",
    "\n",
    "print('SVM Prediction:\\n')\n",
    "print(comparison_svm.sample(15,random_state=17))\n"
   ]
  },
  {
   "cell_type": "markdown",
   "id": "f4742bfc",
   "metadata": {},
   "source": [
    "### b) Logistic Regression"
   ]
  },
  {
   "cell_type": "code",
   "execution_count": 64,
   "id": "d3543889",
   "metadata": {},
   "outputs": [
    {
     "name": "stdout",
     "output_type": "stream",
     "text": [
      "Logistic Regression Prediction:\n",
      "\n",
      "      Actual  Predicted                                                   text\n",
      "6895       0          1  This Dunkin Donuts is hit or miss.\\n\\nWhen i run i...\n",
      "2536       1          1  This place is so good! I have eaten almost everyth...\n",
      "6646       0          1  Slices Pizza is pretty good, not the best though. ...\n",
      "2516       1          1  I totally agree with L.C.'s review.  Going to XCP ...\n",
      "1919       0          1                                           D-scust-ing.\n",
      "6795       1          1  Dr. Dairiki is terrific. She is professional, list...\n",
      "6713       0          0  The worse food and service. I have never given a b...\n",
      "188        1          1  Screw Disneyland- Sephora is the happiest place on...\n",
      "328        0          0  I like the review of the whacked waiter... i think...\n",
      "4739       0          0  I have been to Kyoto about 3-4 times in the past 7...\n",
      "4212       1          1  Relatively inexpensive, good solid mexican food pl...\n",
      "5511       1          1  today was my second visit to the gyro house. i was...\n",
      "4823       1          1  i stopped by here on a lunch break because the sig...\n",
      "3950       1          1  Cool place in downtown!  I've been to all of the i...\n",
      "4499       0          0  I got a BBQ chicken sandwich and all the bones cam...\n"
     ]
    }
   ],
   "source": [
    "pd.set_option('display.max_colwidth', 54)\n",
    "comparison_lr = pd.DataFrame({'Actual': y_test, 'Predicted': y_pred_lr})\n",
    "comparison_lr = comparison_lr.join(df['text'].reset_index(drop=True))\n",
    "\n",
    "print('Logistic Regression Prediction:\\n')\n",
    "print(comparison_lr.sample(15,random_state=17))\n"
   ]
  }
 ],
 "metadata": {
  "kernelspec": {
   "display_name": "Python 3 (ipykernel)",
   "language": "python",
   "name": "python3"
  },
  "language_info": {
   "codemirror_mode": {
    "name": "ipython",
    "version": 3
   },
   "file_extension": ".py",
   "mimetype": "text/x-python",
   "name": "python",
   "nbconvert_exporter": "python",
   "pygments_lexer": "ipython3",
   "version": "3.9.7"
  }
 },
 "nbformat": 4,
 "nbformat_minor": 5
}
